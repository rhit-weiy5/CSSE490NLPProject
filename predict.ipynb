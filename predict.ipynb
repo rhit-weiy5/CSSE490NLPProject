{
 "cells": [
  {
   "cell_type": "code",
   "execution_count": null,
   "id": "0a6c1519",
   "metadata": {},
   "outputs": [],
   "source": [
    "import time\n",
    "import h5py\n",
    "import pickle\n",
    "from tensorflow.keras.models import load_model\n",
    "from tensorflow.keras.preprocessing.text import Tokenizer\n",
    "from tensorflow.keras.preprocessing.sequence import pad_sequences"
   ]
  },
  {
   "cell_type": "code",
   "execution_count": null,
   "id": "2ff797df",
   "metadata": {},
   "outputs": [],
   "source": [
    "model = load_model('model.h5')"
   ]
  },
  {
   "cell_type": "code",
   "execution_count": null,
   "id": "be3daa1c-3ac9-4c91-9bbf-b32a282b92d0",
   "metadata": {},
   "outputs": [],
   "source": [
    "with open(\"tokenizer_model.pkl\", \"rb\") as file:\n",
    "    tokenizer = pickle.load(file)\n",
    "SEQUENCE_LENGTH = 300\n",
    "POSITIVE = \"POSITIVE\"\n",
    "NEGATIVE = \"NEGATIVE\""
   ]
  },
  {
   "cell_type": "code",
   "execution_count": null,
   "id": "ae5c3185-cd75-4a38-9827-5ed58346df98",
   "metadata": {},
   "outputs": [],
   "source": [
    "def decode_sentiment(score):\n",
    "        return NEGATIVE if score < 0.5 else POSITIVE"
   ]
  },
  {
   "cell_type": "code",
   "execution_count": null,
   "id": "a3739506-01a1-484c-a6c9-3f5166482b63",
   "metadata": {},
   "outputs": [],
   "source": [
    "def predict(text):\n",
    "    start_at = time.time()\n",
    "    # Tokenize text\n",
    "    x_test = pad_sequences(tokenizer.texts_to_sequences([text]), maxlen=SEQUENCE_LENGTH)\n",
    "    # Predict\n",
    "    score = model.predict([x_test])[0]\n",
    "    # Decode sentiment\n",
    "    label = decode_sentiment(score)\n",
    "\n",
    "    return {\"label\": label, \"score\": float(score),\n",
    "       \"elapsed_time\": time.time()-start_at}  "
   ]
  },
  {
   "cell_type": "code",
   "execution_count": null,
   "id": "0951e27b-cd2e-4b93-b52f-40ca12593893",
   "metadata": {},
   "outputs": [],
   "source": [
    "predict(\"I love the music\")"
   ]
  },
  {
   "cell_type": "code",
   "execution_count": null,
   "id": "abd6f327-2e12-4310-9ced-12f7e607931b",
   "metadata": {},
   "outputs": [],
   "source": [
    "predict(\"I hate the music\")"
   ]
  },
  {
   "cell_type": "code",
   "execution_count": null,
   "id": "d8710928",
   "metadata": {},
   "outputs": [],
   "source": []
  }
 ],
 "metadata": {
  "kernelspec": {
   "display_name": "Python 3 (ipykernel)",
   "language": "python",
   "name": "python3"
  },
  "language_info": {
   "codemirror_mode": {
    "name": "ipython",
    "version": 3
   },
   "file_extension": ".py",
   "mimetype": "text/x-python",
   "name": "python",
   "nbconvert_exporter": "python",
   "pygments_lexer": "ipython3",
   "version": "3.10.8"
  }
 },
 "nbformat": 4,
 "nbformat_minor": 5
}
